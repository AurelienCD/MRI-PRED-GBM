{
 "cells": [
  {
   "cell_type": "code",
   "id": "initial_id",
   "metadata": {
    "collapsed": true,
    "ExecuteTime": {
     "end_time": "2025-03-25T13:14:41.959859Z",
     "start_time": "2025-03-25T13:14:41.545648Z"
    }
   },
   "source": [
    "import pandas as pd\n",
    "import numpy as np\n",
    "from sklearn.model_selection import train_test_split, GridSearchCV\n",
    "\n",
    "from sklearn.discriminant_analysis import LinearDiscriminantAnalysis\n",
    "from sklearn.neighbors import KNeighborsClassifier\n",
    "from sklearn.naive_bayes import GaussianNB\n",
    "from sklearn.tree import DecisionTreeClassifier\n",
    "from sklearn.svm import SVC\n",
    "from sklearn.linear_model import LogisticRegression\n",
    "from sklearn.ensemble import RandomForestClassifier\n",
    "\n",
    "\n",
    "from sklearn.metrics import *\n",
    "import seaborn as sns\n",
    "import xgboost as xgb\n",
    "\n",
    "import matplotlib.pyplot as plt\n",
    "import joblib\n",
    "from joblib import load\n",
    "from sklearn.preprocessing import StandardScaler"
   ],
   "outputs": [],
   "execution_count": 1
  },
  {
   "metadata": {
    "ExecuteTime": {
     "end_time": "2025-03-20T14:45:54.910300Z",
     "start_time": "2025-03-20T14:45:54.896294Z"
    }
   },
   "cell_type": "code",
   "source": [
    "df = pd.read_csv('xxx.csv', sep=\";\")\n",
    "columns = ['class', 'dl_probabilities', 'surgery_class', 'oms', 'age']\n",
    "df = df[columns]\n",
    "df.dropna(axis=0)\n",
    "df.head()"
   ],
   "id": "1faf67e2aa92fd97",
   "outputs": [
    {
     "data": {
      "text/plain": [
       "   class  dl_probabilities  surgery_class  oms    age\n",
       "0      0          0.718501              1  0.0  74.80\n",
       "1      0          0.951044              0  2.0  74.46\n",
       "2      0          0.422944              0  2.0  74.15\n",
       "3      1          0.062295              1  1.0  68.37\n",
       "4      1          0.990110              1  1.0  73.28"
      ],
      "text/html": [
       "<div>\n",
       "<style scoped>\n",
       "    .dataframe tbody tr th:only-of-type {\n",
       "        vertical-align: middle;\n",
       "    }\n",
       "\n",
       "    .dataframe tbody tr th {\n",
       "        vertical-align: top;\n",
       "    }\n",
       "\n",
       "    .dataframe thead th {\n",
       "        text-align: right;\n",
       "    }\n",
       "</style>\n",
       "<table border=\"1\" class=\"dataframe\">\n",
       "  <thead>\n",
       "    <tr style=\"text-align: right;\">\n",
       "      <th></th>\n",
       "      <th>class</th>\n",
       "      <th>dl_probabilities</th>\n",
       "      <th>surgery_class</th>\n",
       "      <th>oms</th>\n",
       "      <th>age</th>\n",
       "    </tr>\n",
       "  </thead>\n",
       "  <tbody>\n",
       "    <tr>\n",
       "      <th>0</th>\n",
       "      <td>0</td>\n",
       "      <td>0.718501</td>\n",
       "      <td>1</td>\n",
       "      <td>0.0</td>\n",
       "      <td>74.80</td>\n",
       "    </tr>\n",
       "    <tr>\n",
       "      <th>1</th>\n",
       "      <td>0</td>\n",
       "      <td>0.951044</td>\n",
       "      <td>0</td>\n",
       "      <td>2.0</td>\n",
       "      <td>74.46</td>\n",
       "    </tr>\n",
       "    <tr>\n",
       "      <th>2</th>\n",
       "      <td>0</td>\n",
       "      <td>0.422944</td>\n",
       "      <td>0</td>\n",
       "      <td>2.0</td>\n",
       "      <td>74.15</td>\n",
       "    </tr>\n",
       "    <tr>\n",
       "      <th>3</th>\n",
       "      <td>1</td>\n",
       "      <td>0.062295</td>\n",
       "      <td>1</td>\n",
       "      <td>1.0</td>\n",
       "      <td>68.37</td>\n",
       "    </tr>\n",
       "    <tr>\n",
       "      <th>4</th>\n",
       "      <td>1</td>\n",
       "      <td>0.990110</td>\n",
       "      <td>1</td>\n",
       "      <td>1.0</td>\n",
       "      <td>73.28</td>\n",
       "    </tr>\n",
       "  </tbody>\n",
       "</table>\n",
       "</div>"
      ]
     },
     "execution_count": 224,
     "metadata": {},
     "output_type": "execute_result"
    }
   ],
   "execution_count": 224
  },
  {
   "metadata": {
    "ExecuteTime": {
     "end_time": "2025-03-20T14:45:56.438542Z",
     "start_time": "2025-03-20T14:45:56.422534Z"
    }
   },
   "cell_type": "code",
   "source": [
    "combined_data = df.drop('class', axis=1)\n",
    "labels = df['class']\n",
    "\n",
    "X_np = np.array(combined_data)\n",
    "sc = StandardScaler()\n",
    "X_norm = sc.fit_transform(X_np)\n",
    "X = X_norm"
   ],
   "id": "3d2a08b358a2a6a6",
   "outputs": [],
   "execution_count": 225
  },
  {
   "metadata": {
    "ExecuteTime": {
     "end_time": "2025-03-20T14:45:58.244636Z",
     "start_time": "2025-03-20T14:45:58.228626Z"
    }
   },
   "cell_type": "code",
   "source": [
    "X_train, X_test, y_train, y_test = train_test_split(X, labels, test_size=0.40, random_state=7)\n",
    "print(f\"Training set: {len(X_train)} patients\")\n",
    "print(f\"Test set: {len(X_test)} patients\")"
   ],
   "id": "221d00ec3e0960a",
   "outputs": [
    {
     "name": "stdout",
     "output_type": "stream",
     "text": [
      "Training set: 105 patients\n",
      "Test set: 70 patients\n"
     ]
    }
   ],
   "execution_count": 226
  },
  {
   "metadata": {
    "ExecuteTime": {
     "end_time": "2025-03-20T14:45:59.103575Z",
     "start_time": "2025-03-20T14:45:59.089553Z"
    }
   },
   "cell_type": "code",
   "source": [
    "models_params = {\n",
    "    'LinearDiscriminant': {\n",
    "        'model': LinearDiscriminantAnalysis(),\n",
    "        'params': {\n",
    "            'solver': ['svd', 'lsqr', 'eigen'], \n",
    "            'store_covariance' : [True, False], \n",
    "            'tol' : [1.0e-2, 1.0e-3, 1.0e-4]\n",
    "        }\n",
    "    },\n",
    "    'LogisticRegression': {\n",
    "        'model': LogisticRegression(),\n",
    "        'params': {\n",
    "            'C': [0.01, 0.1, 1, 10, 100],\n",
    "            'penalty': ['l2'],\n",
    "            'solver': ['lbfgs', 'liblinear'], \n",
    "            'tol' : [1.0e-3, 1.0e-4], \n",
    "            'random_state' : [7], \n",
    "            'max_iter' : [100, 1000]\n",
    "        }\n",
    "    },\n",
    "    'NeighborsClassifier': {\n",
    "        'model': KNeighborsClassifier(),\n",
    "        'params': {\n",
    "            'n_neighbors': [3, 5, 7],\n",
    "            'weights': ['uniform', 'distance'],\n",
    "            'algorithm': ['auto', 'kd_tree']\n",
    "        }\n",
    "    },\n",
    "    'GaussianNB': {\n",
    "        'model': GaussianNB(),\n",
    "        'params': {\n",
    "            'var_smoothing': [1e-9, 1e-8, 1e-7]\n",
    "        }\n",
    "    },\n",
    "    'DecisionTreeClassifier': {\n",
    "        'model': DecisionTreeClassifier(),\n",
    "        'params': {\n",
    "            'criterion': ['gini', 'entropy'],\n",
    "            'splitter' : ['best', 'random'],\n",
    "            'max_depth': [None, 10, 20],\n",
    "            'min_samples_split': [2, 5]\n",
    "        }\n",
    "    },\n",
    "    'SVC': {\n",
    "        'model': SVC(probability=True),\n",
    "        'params': {\n",
    "            'C': [0.1, 1, 10],\n",
    "            'kernel': ['linear', 'rbf'],\n",
    "            'gamma': ['scale', 'auto']\n",
    "        }\n",
    "    },\n",
    "    'RandomForestClassifier': {\n",
    "        'model': RandomForestClassifier(),\n",
    "        'params': {\n",
    "            'n_estimators': [100, 200],\n",
    "            'max_depth': [None, 10, 20],\n",
    "            'min_samples_split': [2, 5],\n",
    "            'criterion': ['gini', 'entropy'], \n",
    "            'max_features' : ['sqrt', None]\n",
    "        }\n",
    "    },\n",
    "    'XGBClassifier': {\n",
    "        'model': xgb.XGBClassifier(objective='binary:logistic', eval_metric='logloss'),\n",
    "        'params': {\n",
    "            'learning_rate': [0.01, 0.1],\n",
    "            'n_estimators': [100, 200],\n",
    "            'max_depth': [3, 5],\n",
    "            'min_child_weight': [1, 3],\n",
    "            'subsample': [0.7, 0.9],\n",
    "            'colsample_bytree': [0.7, 0.9]\n",
    "        }\n",
    "    }\n",
    "}"
   ],
   "id": "ff0dd0d88f2219de",
   "outputs": [],
   "execution_count": 227
  },
  {
   "metadata": {
    "ExecuteTime": {
     "end_time": "2025-03-20T14:46:05.311422Z",
     "start_time": "2025-03-20T14:45:59.927301Z"
    }
   },
   "cell_type": "code",
   "source": [
    "best_models = {}\n",
    "results = []\n",
    "\n",
    "for model_name, mp in models_params.items():\n",
    "    print(f\"Optimisation des hyperparamètres pour {model_name}...\")\n",
    "    grid_search = GridSearchCV(mp[\"model\"], mp[\"params\"], cv=5, scoring='accuracy', n_jobs=-1)\n",
    "    grid_search.fit(X_train, y_train)\n",
    "\n",
    "    # Meilleur modèle trouvé\n",
    "    best_models[model_name] = grid_search.best_estimator_\n",
    "\n",
    "    # Évaluation sur l'ensemble de test\n",
    "    y_pred = best_models[model_name].predict(X_test)\n",
    "    y_pred_proba = best_models[model_name].predict_proba(X_test)[:, 1]\n",
    "    accuracy = accuracy_score(y_test, y_pred)\n",
    "\n",
    "    results.append({\n",
    "        'Model': model_name,\n",
    "        'Test Accuracy': accuracy,\n",
    "    })\n",
    "\n",
    "    print(f\"{model_name} - Meilleurs hyperparamètres: {grid_search.best_params_}\")\n",
    "    print(f\"{model_name} - Accuracy sur le test: {accuracy:.4f}\")\n",
    "\n",
    "best_model_name = max(best_models, key=lambda name: best_models[name].score(X_test, y_test))\n",
    "print(f\"Meilleur modèle global: {best_model_name}\")\n",
    "\n",
    "results_df = pd.DataFrame(results)\n",
    "results_df = results_df.sort_values('Test Accuracy', ascending=False)\n",
    "print(results_df[['Model', 'Test Accuracy']])"
   ],
   "id": "ff174bab41d1788b",
   "outputs": [
    {
     "name": "stdout",
     "output_type": "stream",
     "text": [
      "Optimisation des hyperparamètres pour LinearDiscriminant...\n",
      "LinearDiscriminant - Meilleurs hyperparamètres: {'solver': 'svd', 'store_covariance': True, 'tol': 0.01}\n",
      "LinearDiscriminant - Accuracy sur le test: 0.8286\n",
      "Optimisation des hyperparamètres pour LogisticRegression...\n",
      "LogisticRegression - Meilleurs hyperparamètres: {'C': 1, 'max_iter': 100, 'penalty': 'l2', 'random_state': 7, 'solver': 'lbfgs', 'tol': 0.001}\n",
      "LogisticRegression - Accuracy sur le test: 0.8286\n",
      "Optimisation des hyperparamètres pour NeighborsClassifier...\n",
      "NeighborsClassifier - Meilleurs hyperparamètres: {'algorithm': 'auto', 'n_neighbors': 7, 'weights': 'distance'}\n",
      "NeighborsClassifier - Accuracy sur le test: 0.8714\n",
      "Optimisation des hyperparamètres pour GaussianNB...\n",
      "GaussianNB - Meilleurs hyperparamètres: {'var_smoothing': 1e-09}\n",
      "GaussianNB - Accuracy sur le test: 0.8571\n",
      "Optimisation des hyperparamètres pour DecisionTreeClassifier...\n",
      "DecisionTreeClassifier - Meilleurs hyperparamètres: {'criterion': 'gini', 'max_depth': 20, 'min_samples_split': 5, 'splitter': 'random'}\n",
      "DecisionTreeClassifier - Accuracy sur le test: 0.7571\n",
      "Optimisation des hyperparamètres pour SVC...\n",
      "SVC - Meilleurs hyperparamètres: {'C': 0.1, 'gamma': 'scale', 'kernel': 'linear'}\n",
      "SVC - Accuracy sur le test: 0.8429\n",
      "Optimisation des hyperparamètres pour RandomForestClassifier...\n",
      "RandomForestClassifier - Meilleurs hyperparamètres: {'criterion': 'gini', 'max_depth': None, 'max_features': 'sqrt', 'min_samples_split': 2, 'n_estimators': 200}\n",
      "RandomForestClassifier - Accuracy sur le test: 0.7857\n",
      "Optimisation des hyperparamètres pour XGBClassifier...\n",
      "XGBClassifier - Meilleurs hyperparamètres: {'colsample_bytree': 0.7, 'learning_rate': 0.01, 'max_depth': 3, 'min_child_weight': 3, 'n_estimators': 200, 'subsample': 0.7}\n",
      "XGBClassifier - Accuracy sur le test: 0.8286\n",
      "Meilleur modèle global: NeighborsClassifier\n",
      "                    Model  Test Accuracy\n",
      "2     NeighborsClassifier       0.871429\n",
      "3              GaussianNB       0.857143\n",
      "5                     SVC       0.842857\n",
      "0      LinearDiscriminant       0.828571\n",
      "1      LogisticRegression       0.828571\n",
      "7           XGBClassifier       0.828571\n",
      "6  RandomForestClassifier       0.785714\n",
      "4  DecisionTreeClassifier       0.757143\n"
     ]
    }
   ],
   "execution_count": 228
  },
  {
   "metadata": {
    "ExecuteTime": {
     "end_time": "2025-03-20T14:46:16.309951Z",
     "start_time": "2025-03-20T14:46:16.293937Z"
    }
   },
   "cell_type": "code",
   "source": [
    "model_filename = 'xxx.joblib'\n",
    "joblib.dump(best_models[best_model_name], model_filename)"
   ],
   "id": "5503da76332de470",
   "outputs": [
    {
     "data": {
      "text/plain": [
       "['clinical_data_best_model_20032025_2classes.joblib']"
      ]
     },
     "execution_count": 229,
     "metadata": {},
     "output_type": "execute_result"
    }
   ],
   "execution_count": 229
  },
  {
   "metadata": {
    "ExecuteTime": {
     "end_time": "2025-03-20T14:46:21.579660Z",
     "start_time": "2025-03-20T14:46:21.564029Z"
    }
   },
   "cell_type": "code",
   "source": [
    "model_ = load('xxx.joblib')\n",
    "print(model_)"
   ],
   "id": "3f2f1e30f4f32b6c",
   "outputs": [
    {
     "name": "stdout",
     "output_type": "stream",
     "text": [
      "KNeighborsClassifier(n_neighbors=7, weights='distance')\n"
     ]
    }
   ],
   "execution_count": 231
  },
  {
   "metadata": {
    "ExecuteTime": {
     "end_time": "2025-03-20T14:46:24.069156Z",
     "start_time": "2025-03-20T14:46:24.005866Z"
    }
   },
   "cell_type": "code",
   "source": [
    "yhat_proba = model_.predict_proba(X_test)\n",
    "yhat = np.argmax(yhat_proba, axis=1)\n",
    "\n",
    "# Calcul de la matrice de confusion\n",
    "cm = confusion_matrix(y_test, yhat)\n",
    "\n",
    "# Affichage\n",
    "disp = ConfusionMatrixDisplay(confusion_matrix=cm, display_labels=model_.classes_)\n",
    "disp.plot(cmap=plt.cm.Blues)\n",
    "plt.show()"
   ],
   "id": "16e6248856244788",
   "outputs": [
    {
     "data": {
      "text/plain": [
       "<Figure size 640x480 with 2 Axes>"
      ],
      "image/png": "[encoded data removed]"
     },
     "metadata": {},
     "output_type": "display_data"
    }
   ],
   "execution_count": 232
  },
  {
   "metadata": {
    "ExecuteTime": {
     "end_time": "2025-03-20T14:47:08.272266Z",
     "start_time": "2025-03-20T14:47:08.256254Z"
    }
   },
   "cell_type": "code",
   "source": [
    "print(f'Accuracy score: {round(((33+28)/(33+5+4+28)),4)}')\n",
    "print(f'Sensitivity score: {round((28/(28+4)),4)}')\n",
    "print(f'Specificity score: {round((33/(33+5)), 4)}')"
   ],
   "id": "5bc30f4766dd8229",
   "outputs": [
    {
     "name": "stdout",
     "output_type": "stream",
     "text": [
      "Accuracy score: 0.8714\n",
      "Sensitivity score: 0.875\n",
      "Specificity score: 0.8684\n"
     ]
    }
   ],
   "execution_count": 234
  },
  {
   "metadata": {
    "ExecuteTime": {
     "end_time": "2025-03-20T14:48:17.831149Z",
     "start_time": "2025-03-20T14:48:17.766621Z"
    }
   },
   "cell_type": "code",
   "source": [
    "### raining set:\n",
    "yhat = model_.predict_proba(X_test)\n",
    "conf_matrix_SGD_01 = confusion_matrix(y_test, np.where(yhat[:, 0] > 0.45, 0, 1))\n",
    "\n",
    "ax_sgd_01 = sns.heatmap(conf_matrix_SGD_01, annot=True, fmt='d')\n",
    "ax_sgd_01.set_title('')\n",
    "ax_sgd_01.set_ylabel('True')\n",
    "ax_sgd_01.set_xlabel('Predict')\n",
    "plt.show()\n",
    "print(f'Accuracy score: {round(((34+27) / (27+34+4+5)), 4)}')\n",
    "print(f'Sensitivity score: {round((27 / (27+5)), 4)}')\n",
    "print(f'Specificity score: {round((34 / (34 + 4)), 4)}')"
   ],
   "id": "cb7c74b2c1441744",
   "outputs": [
    {
     "data": {
      "text/plain": [
       "<Figure size 640x480 with 2 Axes>"
      ],
      "image/png": "[encoded data removed]"
     },
     "metadata": {},
     "output_type": "display_data"
    },
    {
     "name": "stdout",
     "output_type": "stream",
     "text": [
      "Accuracy score: 0.8714\n",
      "Sensitivity score: 0.8438\n",
      "Specificity score: 0.8947\n"
     ]
    }
   ],
   "execution_count": 242
  },
  {
   "metadata": {
    "ExecuteTime": {
     "end_time": "2025-03-20T13:12:54.524334Z",
     "start_time": "2025-03-20T13:12:54.492695Z"
    }
   },
   "cell_type": "code",
   "source": "",
   "id": "f3e79b9e995d2cec",
   "outputs": [
    {
     "ename": "AttributeError",
     "evalue": "'KNeighborsClassifier' object has no attribute 'feature_importances_'",
     "output_type": "error",
     "traceback": [
      "\u001B[1;31m---------------------------------------------------------------------------\u001B[0m",
      "\u001B[1;31mAttributeError\u001B[0m                            Traceback (most recent call last)",
      "Cell \u001B[1;32mIn[190], line 1\u001B[0m\n\u001B[1;32m----> 1\u001B[0m \u001B[43mmodel_\u001B[49m\u001B[38;5;241;43m.\u001B[39;49m\u001B[43mfeature_importances_\u001B[49m\n",
      "\u001B[1;31mAttributeError\u001B[0m: 'KNeighborsClassifier' object has no attribute 'feature_importances_'"
     ]
    }
   ],
   "execution_count": 190
  },
  {
   "metadata": {
    "ExecuteTime": {
     "end_time": "2025-02-28T15:59:45.296115Z",
     "start_time": "2025-02-28T15:59:45.279993Z"
    }
   },
   "cell_type": "code",
   "source": "combined_data",
   "id": "e7dc681ec1203b3a",
   "outputs": [
    {
     "data": {
      "text/plain": [
       "     surgery_class  oms  dl_probabilities_class0  dl_probabilities_class1  \\\n",
       "0                1  0.0                 0.062260                 0.783770   \n",
       "1                0  2.0                 0.044262                 0.030447   \n",
       "2                0  2.0                 0.093085                 0.105446   \n",
       "3                1  1.0                 0.662544                 0.047270   \n",
       "4                1  1.0                 0.075252                 0.006149   \n",
       "..             ...  ...                      ...                      ...   \n",
       "169              2  1.0                 0.153485                 0.256297   \n",
       "170              0  3.0                 0.981317                 0.000770   \n",
       "171              0  2.0                 0.696636                 0.099962   \n",
       "172              1  0.0                 0.391521                 0.135349   \n",
       "173              1  2.0                 0.149819                 0.720824   \n",
       "\n",
       "     dl_probabilities_class2    age  class_gender  \n",
       "0                   0.153970  74.80             0  \n",
       "1                   0.925291  74.46             1  \n",
       "2                   0.801468  74.15             0  \n",
       "3                   0.290186  68.37             0  \n",
       "4                   0.918599  73.28             1  \n",
       "..                       ...    ...           ...  \n",
       "169                 0.590217  42.25             1  \n",
       "170                 0.017913  73.28             0  \n",
       "171                 0.203401  83.44             1  \n",
       "172                 0.473130  70.35             0  \n",
       "173                 0.129357  68.76             0  \n",
       "\n",
       "[174 rows x 7 columns]"
      ],
      "text/html": [
       "<div>\n",
       "<style scoped>\n",
       "    .dataframe tbody tr th:only-of-type {\n",
       "        vertical-align: middle;\n",
       "    }\n",
       "\n",
       "    .dataframe tbody tr th {\n",
       "        vertical-align: top;\n",
       "    }\n",
       "\n",
       "    .dataframe thead th {\n",
       "        text-align: right;\n",
       "    }\n",
       "</style>\n",
       "<table border=\"1\" class=\"dataframe\">\n",
       "  <thead>\n",
       "    <tr style=\"text-align: right;\">\n",
       "      <th></th>\n",
       "      <th>surgery_class</th>\n",
       "      <th>oms</th>\n",
       "      <th>dl_probabilities_class0</th>\n",
       "      <th>dl_probabilities_class1</th>\n",
       "      <th>dl_probabilities_class2</th>\n",
       "      <th>age</th>\n",
       "      <th>class_gender</th>\n",
       "    </tr>\n",
       "  </thead>\n",
       "  <tbody>\n",
       "    <tr>\n",
       "      <th>0</th>\n",
       "      <td>1</td>\n",
       "      <td>0.0</td>\n",
       "      <td>0.062260</td>\n",
       "      <td>0.783770</td>\n",
       "      <td>0.153970</td>\n",
       "      <td>74.80</td>\n",
       "      <td>0</td>\n",
       "    </tr>\n",
       "    <tr>\n",
       "      <th>1</th>\n",
       "      <td>0</td>\n",
       "      <td>2.0</td>\n",
       "      <td>0.044262</td>\n",
       "      <td>0.030447</td>\n",
       "      <td>0.925291</td>\n",
       "      <td>74.46</td>\n",
       "      <td>1</td>\n",
       "    </tr>\n",
       "    <tr>\n",
       "      <th>2</th>\n",
       "      <td>0</td>\n",
       "      <td>2.0</td>\n",
       "      <td>0.093085</td>\n",
       "      <td>0.105446</td>\n",
       "      <td>0.801468</td>\n",
       "      <td>74.15</td>\n",
       "      <td>0</td>\n",
       "    </tr>\n",
       "    <tr>\n",
       "      <th>3</th>\n",
       "      <td>1</td>\n",
       "      <td>1.0</td>\n",
       "      <td>0.662544</td>\n",
       "      <td>0.047270</td>\n",
       "      <td>0.290186</td>\n",
       "      <td>68.37</td>\n",
       "      <td>0</td>\n",
       "    </tr>\n",
       "    <tr>\n",
       "      <th>4</th>\n",
       "      <td>1</td>\n",
       "      <td>1.0</td>\n",
       "      <td>0.075252</td>\n",
       "      <td>0.006149</td>\n",
       "      <td>0.918599</td>\n",
       "      <td>73.28</td>\n",
       "      <td>1</td>\n",
       "    </tr>\n",
       "    <tr>\n",
       "      <th>...</th>\n",
       "      <td>...</td>\n",
       "      <td>...</td>\n",
       "      <td>...</td>\n",
       "      <td>...</td>\n",
       "      <td>...</td>\n",
       "      <td>...</td>\n",
       "      <td>...</td>\n",
       "    </tr>\n",
       "    <tr>\n",
       "      <th>169</th>\n",
       "      <td>2</td>\n",
       "      <td>1.0</td>\n",
       "      <td>0.153485</td>\n",
       "      <td>0.256297</td>\n",
       "      <td>0.590217</td>\n",
       "      <td>42.25</td>\n",
       "      <td>1</td>\n",
       "    </tr>\n",
       "    <tr>\n",
       "      <th>170</th>\n",
       "      <td>0</td>\n",
       "      <td>3.0</td>\n",
       "      <td>0.981317</td>\n",
       "      <td>0.000770</td>\n",
       "      <td>0.017913</td>\n",
       "      <td>73.28</td>\n",
       "      <td>0</td>\n",
       "    </tr>\n",
       "    <tr>\n",
       "      <th>171</th>\n",
       "      <td>0</td>\n",
       "      <td>2.0</td>\n",
       "      <td>0.696636</td>\n",
       "      <td>0.099962</td>\n",
       "      <td>0.203401</td>\n",
       "      <td>83.44</td>\n",
       "      <td>1</td>\n",
       "    </tr>\n",
       "    <tr>\n",
       "      <th>172</th>\n",
       "      <td>1</td>\n",
       "      <td>0.0</td>\n",
       "      <td>0.391521</td>\n",
       "      <td>0.135349</td>\n",
       "      <td>0.473130</td>\n",
       "      <td>70.35</td>\n",
       "      <td>0</td>\n",
       "    </tr>\n",
       "    <tr>\n",
       "      <th>173</th>\n",
       "      <td>1</td>\n",
       "      <td>2.0</td>\n",
       "      <td>0.149819</td>\n",
       "      <td>0.720824</td>\n",
       "      <td>0.129357</td>\n",
       "      <td>68.76</td>\n",
       "      <td>0</td>\n",
       "    </tr>\n",
       "  </tbody>\n",
       "</table>\n",
       "<p>174 rows × 7 columns</p>\n",
       "</div>"
      ]
     },
     "execution_count": 13,
     "metadata": {},
     "output_type": "execute_result"
    }
   ],
   "execution_count": 13
  },
  {
   "metadata": {},
   "cell_type": "code",
   "outputs": [],
   "execution_count": null,
   "source": "",
   "id": "2959ead359742436"
  }
 ],
 "metadata": {
  "kernelspec": {
   "display_name": "Python 3",
   "language": "python",
   "name": "python3"
  },
  "language_info": {
   "codemirror_mode": {
    "name": "ipython",
    "version": 2
   },
   "file_extension": ".py",
   "mimetype": "text/x-python",
   "name": "python",
   "nbconvert_exporter": "python",
   "pygments_lexer": "ipython2",
   "version": "2.7.6"
  }
 },
 "nbformat": 4,
 "nbformat_minor": 5
}
