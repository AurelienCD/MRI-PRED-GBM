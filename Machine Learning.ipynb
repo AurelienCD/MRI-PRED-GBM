{
 "cells": [
  {
   "cell_type": "code",
   "execution_count": 1,
   "id": "initial_id",
   "metadata": {
    "ExecuteTime": {
     "end_time": "2025-06-25T06:48:26.733409Z",
     "start_time": "2025-06-25T06:48:26.717396Z"
    }
   },
   "outputs": [],
   "source": [
    "import pandas as pd\n",
    "import numpy as np\n",
    "from sklearn.model_selection import train_test_split, GridSearchCV\n",
    "\n",
    "from sklearn.discriminant_analysis import LinearDiscriminantAnalysis\n",
    "from sklearn.neighbors import KNeighborsClassifier\n",
    "from sklearn.naive_bayes import GaussianNB\n",
    "from sklearn.tree import DecisionTreeClassifier\n",
    "from sklearn.svm import SVC\n",
    "from sklearn.linear_model import LogisticRegression\n",
    "from sklearn.ensemble import RandomForestClassifier\n",
    "\n",
    "\n",
    "from sklearn.metrics import *\n",
    "import seaborn as sns\n",
    "import xgboost as xgb\n",
    "\n",
    "import matplotlib.pyplot as plt\n",
    "import joblib\n",
    "from joblib import load\n",
    "from sklearn.preprocessing import StandardScaler\n",
    "from sympy.physics.control.control_plots import matplotlib"
   ]
  },
  {
   "cell_type": "code",
   "execution_count": 2,
   "id": "1faf67e2aa92fd97",
   "metadata": {
    "ExecuteTime": {
     "end_time": "2025-06-25T06:48:27.261629Z",
     "start_time": "2025-06-25T06:48:27.245996Z"
    }
   },
   "outputs": [
    {
     "data": {
      "text/html": [
       "<div>\n",
       "<style scoped>\n",
       "    .dataframe tbody tr th:only-of-type {\n",
       "        vertical-align: middle;\n",
       "    }\n",
       "\n",
       "    .dataframe tbody tr th {\n",
       "        vertical-align: top;\n",
       "    }\n",
       "\n",
       "    .dataframe thead th {\n",
       "        text-align: right;\n",
       "    }\n",
       "</style>\n",
       "<table border=\"1\" class=\"dataframe\">\n",
       "  <thead>\n",
       "    <tr style=\"text-align: right;\">\n",
       "      <th></th>\n",
       "      <th>class</th>\n",
       "      <th>dl_probabilities_0</th>\n",
       "      <th>dl_probabilities_1</th>\n",
       "      <th>dl_probabilities_2</th>\n",
       "      <th>surgery_class</th>\n",
       "      <th>oms</th>\n",
       "      <th>class_gender</th>\n",
       "      <th>age</th>\n",
       "    </tr>\n",
       "  </thead>\n",
       "  <tbody>\n",
       "    <tr>\n",
       "      <th>0</th>\n",
       "      <td>1</td>\n",
       "      <td>0.276197</td>\n",
       "      <td>0.401775</td>\n",
       "      <td>0.322028</td>\n",
       "      <td>1</td>\n",
       "      <td>0.0</td>\n",
       "      <td>0</td>\n",
       "      <td>74.80</td>\n",
       "    </tr>\n",
       "    <tr>\n",
       "      <th>1</th>\n",
       "      <td>1</td>\n",
       "      <td>0.321821</td>\n",
       "      <td>0.226534</td>\n",
       "      <td>0.451645</td>\n",
       "      <td>0</td>\n",
       "      <td>2.0</td>\n",
       "      <td>1</td>\n",
       "      <td>74.46</td>\n",
       "    </tr>\n",
       "    <tr>\n",
       "      <th>2</th>\n",
       "      <td>1</td>\n",
       "      <td>0.555614</td>\n",
       "      <td>0.217864</td>\n",
       "      <td>0.226522</td>\n",
       "      <td>0</td>\n",
       "      <td>2.0</td>\n",
       "      <td>0</td>\n",
       "      <td>74.15</td>\n",
       "    </tr>\n",
       "    <tr>\n",
       "      <th>3</th>\n",
       "      <td>2</td>\n",
       "      <td>0.222103</td>\n",
       "      <td>0.303225</td>\n",
       "      <td>0.474672</td>\n",
       "      <td>1</td>\n",
       "      <td>1.0</td>\n",
       "      <td>0</td>\n",
       "      <td>68.37</td>\n",
       "    </tr>\n",
       "    <tr>\n",
       "      <th>4</th>\n",
       "      <td>2</td>\n",
       "      <td>0.217938</td>\n",
       "      <td>0.228225</td>\n",
       "      <td>0.553837</td>\n",
       "      <td>1</td>\n",
       "      <td>1.0</td>\n",
       "      <td>1</td>\n",
       "      <td>73.28</td>\n",
       "    </tr>\n",
       "    <tr>\n",
       "      <th>...</th>\n",
       "      <td>...</td>\n",
       "      <td>...</td>\n",
       "      <td>...</td>\n",
       "      <td>...</td>\n",
       "      <td>...</td>\n",
       "      <td>...</td>\n",
       "      <td>...</td>\n",
       "      <td>...</td>\n",
       "    </tr>\n",
       "    <tr>\n",
       "      <th>170</th>\n",
       "      <td>2</td>\n",
       "      <td>0.212507</td>\n",
       "      <td>0.573707</td>\n",
       "      <td>0.213786</td>\n",
       "      <td>2</td>\n",
       "      <td>1.0</td>\n",
       "      <td>1</td>\n",
       "      <td>42.25</td>\n",
       "    </tr>\n",
       "    <tr>\n",
       "      <th>171</th>\n",
       "      <td>0</td>\n",
       "      <td>0.574714</td>\n",
       "      <td>0.212246</td>\n",
       "      <td>0.213040</td>\n",
       "      <td>0</td>\n",
       "      <td>3.0</td>\n",
       "      <td>0</td>\n",
       "      <td>73.28</td>\n",
       "    </tr>\n",
       "    <tr>\n",
       "      <th>172</th>\n",
       "      <td>0</td>\n",
       "      <td>0.251402</td>\n",
       "      <td>0.362665</td>\n",
       "      <td>0.385933</td>\n",
       "      <td>0</td>\n",
       "      <td>2.0</td>\n",
       "      <td>1</td>\n",
       "      <td>83.44</td>\n",
       "    </tr>\n",
       "    <tr>\n",
       "      <th>173</th>\n",
       "      <td>1</td>\n",
       "      <td>0.214265</td>\n",
       "      <td>0.565340</td>\n",
       "      <td>0.220395</td>\n",
       "      <td>1</td>\n",
       "      <td>0.0</td>\n",
       "      <td>0</td>\n",
       "      <td>70.35</td>\n",
       "    </tr>\n",
       "    <tr>\n",
       "      <th>174</th>\n",
       "      <td>1</td>\n",
       "      <td>0.213815</td>\n",
       "      <td>0.492877</td>\n",
       "      <td>0.293308</td>\n",
       "      <td>1</td>\n",
       "      <td>2.0</td>\n",
       "      <td>0</td>\n",
       "      <td>68.76</td>\n",
       "    </tr>\n",
       "  </tbody>\n",
       "</table>\n",
       "<p>175 rows × 8 columns</p>\n",
       "</div>"
      ],
      "text/plain": [
       "     class  dl_probabilities_0  dl_probabilities_1  dl_probabilities_2  \\\n",
       "0        1            0.276197            0.401775            0.322028   \n",
       "1        1            0.321821            0.226534            0.451645   \n",
       "2        1            0.555614            0.217864            0.226522   \n",
       "3        2            0.222103            0.303225            0.474672   \n",
       "4        2            0.217938            0.228225            0.553837   \n",
       "..     ...                 ...                 ...                 ...   \n",
       "170      2            0.212507            0.573707            0.213786   \n",
       "171      0            0.574714            0.212246            0.213040   \n",
       "172      0            0.251402            0.362665            0.385933   \n",
       "173      1            0.214265            0.565340            0.220395   \n",
       "174      1            0.213815            0.492877            0.293308   \n",
       "\n",
       "     surgery_class  oms  class_gender    age  \n",
       "0                1  0.0             0  74.80  \n",
       "1                0  2.0             1  74.46  \n",
       "2                0  2.0             0  74.15  \n",
       "3                1  1.0             0  68.37  \n",
       "4                1  1.0             1  73.28  \n",
       "..             ...  ...           ...    ...  \n",
       "170              2  1.0             1  42.25  \n",
       "171              0  3.0             0  73.28  \n",
       "172              0  2.0             1  83.44  \n",
       "173              1  0.0             0  70.35  \n",
       "174              1  2.0             0  68.76  \n",
       "\n",
       "[175 rows x 8 columns]"
      ]
     },
     "execution_count": 2,
     "metadata": {},
     "output_type": "execute_result"
    }
   ],
   "source": [
    "df = pd.read_csv('xxxxxxx.csv', sep=\";\")\n",
    "\n",
    "columns = ['class', 'dl_probabilities_0', 'dl_probabilities_1', 'dl_probabilities_2', 'surgery_class', 'oms', 'class_gender', 'age']\n",
    "df = df[columns]\n",
    "df.dropna(axis=0)\n",
    "df.head(10)\n",
    "df"
   ]
  },
  {
   "cell_type": "code",
   "execution_count": 3,
   "id": "3d2a08b358a2a6a6",
   "metadata": {
    "ExecuteTime": {
     "end_time": "2025-06-25T06:48:28.392410Z",
     "start_time": "2025-06-25T06:48:28.388358Z"
    }
   },
   "outputs": [],
   "source": [
    "combined_data = df.drop('class', axis=1)\n",
    "labels = df['class']\n",
    "\n",
    "X_np = np.array(combined_data)\n",
    "sc = StandardScaler()\n",
    "X_norm = sc.fit_transform(X_np)\n",
    "X = X_norm"
   ]
  },
  {
   "cell_type": "code",
   "execution_count": 4,
   "id": "221d00ec3e0960a",
   "metadata": {
    "ExecuteTime": {
     "end_time": "2025-06-25T06:48:28.766603Z",
     "start_time": "2025-06-25T06:48:28.750586Z"
    }
   },
   "outputs": [
    {
     "name": "stdout",
     "output_type": "stream",
     "text": [
      "Training set: 105 patients\n",
      "Test set: 70 patients\n"
     ]
    }
   ],
   "source": [
    "X_train, X_test, y_train, y_test = train_test_split(X, labels, test_size=0.40, random_state=14)\n",
    "print(f\"Training set: {len(X_train)} patients\")\n",
    "print(f\"Test set: {len(X_test)} patients\")"
   ]
  },
  {
   "cell_type": "code",
   "execution_count": 5,
   "id": "ff0dd0d88f2219de",
   "metadata": {
    "ExecuteTime": {
     "end_time": "2025-06-25T06:48:33.670604Z",
     "start_time": "2025-06-25T06:48:33.655205Z"
    }
   },
   "outputs": [],
   "source": [
    "models_params = {\n",
    "    'LinearDiscriminant': {\n",
    "        'model': LinearDiscriminantAnalysis(),\n",
    "        'params': {\n",
    "            'solver': ['svd', 'lsqr', 'eigen'], \n",
    "            'store_covariance' : [True, False], \n",
    "            'tol' : [1.0e-2, 1.0e-3, 1.0e-4]\n",
    "        }\n",
    "    },\n",
    "    'LogisticRegression': {\n",
    "        'model': LogisticRegression(),\n",
    "        'params': {\n",
    "            'C': [0.01, 0.1, 1, 10, 100],\n",
    "            'penalty': ['l2'],\n",
    "            'solver': ['lbfgs', 'liblinear'], \n",
    "            'tol' : [1.0e-3, 1.0e-4], \n",
    "            'random_state' : [7], \n",
    "            'max_iter' : [100, 1000]\n",
    "        }\n",
    "    },\n",
    "    'NeighborsClassifier': {\n",
    "        'model': KNeighborsClassifier(),\n",
    "        'params': {\n",
    "            'n_neighbors': [3, 5, 7],\n",
    "            'weights': ['uniform', 'distance'],\n",
    "            'algorithm': ['auto', 'kd_tree']\n",
    "        }\n",
    "    },\n",
    "    'GaussianNB': {\n",
    "        'model': GaussianNB(),\n",
    "        'params': {\n",
    "            'var_smoothing': [1e-9, 1e-8, 1e-7]\n",
    "        }\n",
    "    },\n",
    "    'DecisionTreeClassifier': {\n",
    "        'model': DecisionTreeClassifier(),\n",
    "        'params': {\n",
    "            'criterion': ['gini', 'entropy'],\n",
    "            'splitter' : ['best', 'random'],\n",
    "            'max_depth': [None, 10, 20],\n",
    "            'min_samples_split': [2, 5]\n",
    "        }\n",
    "    },\n",
    "    'SVC': {\n",
    "        'model': SVC(probability=True),\n",
    "        'params': {\n",
    "            'C': [0.1, 1, 10],\n",
    "            'kernel': ['linear', 'rbf'],\n",
    "            'gamma': ['scale', 'auto']\n",
    "        }\n",
    "    },\n",
    "    'RandomForestClassifier': {\n",
    "        'model': RandomForestClassifier(),\n",
    "        'params': {\n",
    "            'n_estimators': [100, 200],\n",
    "            'max_depth': [None, 10, 20],\n",
    "            'min_samples_split': [2, 5],\n",
    "            'criterion': ['gini', 'entropy'], \n",
    "            'max_features' : ['sqrt', None]\n",
    "        }\n",
    "    },\n",
    "    'XGBClassifier': {\n",
    "        'model': xgb.XGBClassifier(objective='binary:logistic', eval_metric='logloss'),\n",
    "        'params': {\n",
    "            'learning_rate': [0.01, 0.1],\n",
    "            'n_estimators': [100, 200],\n",
    "            'max_depth': [3, 5],\n",
    "            'min_child_weight': [1, 3],\n",
    "            'subsample': [0.7, 0.9],\n",
    "            'colsample_bytree': [0.7, 0.9]\n",
    "        }\n",
    "    }\n",
    "}"
   ]
  },
  {
   "cell_type": "code",
   "execution_count": 8,
   "id": "ff174bab41d1788b",
   "metadata": {
    "ExecuteTime": {
     "end_time": "2025-06-25T06:48:57.153983Z",
     "start_time": "2025-06-25T06:48:53.795083Z"
    }
   },
   "outputs": [
    {
     "name": "stdout",
     "output_type": "stream",
     "text": [
      "Hyperparameters optimisation for LinearDiscriminant model:\n",
      "LinearDiscriminant - Best hyperparameters: {'solver': 'lsqr', 'store_covariance': True, 'tol': 0.01}\n",
      "LinearDiscriminant - Accuracy: 0.8000\n",
      "Hyperparameters optimisation for LogisticRegression model:\n",
      "LogisticRegression - Best hyperparameters: {'C': 0.01, 'max_iter': 100, 'penalty': 'l2', 'random_state': 7, 'solver': 'liblinear', 'tol': 0.001}\n",
      "LogisticRegression - Accuracy: 0.8143\n",
      "Hyperparameters optimisation for NeighborsClassifier model:\n",
      "NeighborsClassifier - Best hyperparameters: {'algorithm': 'auto', 'n_neighbors': 7, 'weights': 'uniform'}\n",
      "NeighborsClassifier - Accuracy: 0.7857\n",
      "Hyperparameters optimisation for GaussianNB model:\n",
      "GaussianNB - Best hyperparameters: {'var_smoothing': 1e-09}\n",
      "GaussianNB - Accuracy: 0.8143\n",
      "Hyperparameters optimisation for DecisionTreeClassifier model:\n",
      "DecisionTreeClassifier - Best hyperparameters: {'criterion': 'entropy', 'max_depth': 10, 'min_samples_split': 5, 'splitter': 'random'}\n",
      "DecisionTreeClassifier - Accuracy: 0.6857\n",
      "Hyperparameters optimisation for SVC model:\n",
      "SVC - Best hyperparameters: {'C': 0.1, 'gamma': 'scale', 'kernel': 'linear'}\n",
      "SVC - Accuracy: 0.8143\n",
      "Hyperparameters optimisation for RandomForestClassifier model:\n",
      "RandomForestClassifier - Best hyperparameters: {'criterion': 'gini', 'max_depth': 10, 'max_features': 'sqrt', 'min_samples_split': 5, 'n_estimators': 100}\n",
      "RandomForestClassifier - Accuracy: 0.8429\n",
      "Hyperparameters optimisation for XGBClassifier model:\n",
      "XGBClassifier - Best hyperparameters: {'colsample_bytree': 0.9, 'learning_rate': 0.01, 'max_depth': 3, 'min_child_weight': 3, 'n_estimators': 100, 'subsample': 0.9}\n",
      "XGBClassifier - Accuracy: 0.8000\n",
      "Best model: RandomForestClassifier\n",
      "                    Model  Test Accuracy\n",
      "6  RandomForestClassifier       0.842857\n",
      "1      LogisticRegression       0.814286\n",
      "3              GaussianNB       0.814286\n",
      "5                     SVC       0.814286\n",
      "0      LinearDiscriminant       0.800000\n",
      "7           XGBClassifier       0.800000\n",
      "2     NeighborsClassifier       0.785714\n",
      "4  DecisionTreeClassifier       0.685714\n"
     ]
    }
   ],
   "source": [
    "best_models = {}\n",
    "results = []\n",
    "\n",
    "for model_name, mp in models_params.items():\n",
    "    print(f\"Hyperparameters optimisation for {model_name} model:\")\n",
    "    grid_search = GridSearchCV(mp[\"model\"], mp[\"params\"], cv=5, scoring='accuracy', n_jobs=-1)\n",
    "    grid_search.fit(X_train, y_train)\n",
    "\n",
    "    best_models[model_name] = grid_search.best_estimator_\n",
    "\n",
    "    y_pred = best_models[model_name].predict(X_test)\n",
    "    y_pred_proba = best_models[model_name].predict_proba(X_test)[:, 1]\n",
    "    accuracy = accuracy_score(y_test, y_pred)\n",
    "\n",
    "    results.append({\n",
    "        'Model': model_name,\n",
    "        'Test Accuracy': accuracy,\n",
    "    })\n",
    "\n",
    "    print(f\"{model_name} - Best hyperparameters: {grid_search.best_params_}\")\n",
    "    print(f\"{model_name} - Accuracy: {accuracy:.4f}\")\n",
    "\n",
    "best_model_name = max(best_models, key=lambda name: best_models[name].score(X_test, y_test))\n",
    "print(f\"Best model: {best_model_name}\")\n",
    "\n",
    "results_df = pd.DataFrame(results)\n",
    "results_df = results_df.sort_values('Test Accuracy', ascending=False)\n",
    "print(results_df[['Model', 'Test Accuracy']])"
   ]
  },
  {
   "cell_type": "code",
   "execution_count": null,
   "id": "5503da76332de470",
   "metadata": {
    "ExecuteTime": {
     "end_time": "2025-05-05T15:23:58.371637Z",
     "start_time": "2025-05-05T15:23:58.337128Z"
    }
   },
   "outputs": [],
   "source": [
    "model_filename = 'xxxxxxx.joblib'\n",
    "joblib.dump(best_models[best_model_name], model_filename)"
   ]
  },
  {
   "cell_type": "code",
   "execution_count": 10,
   "id": "3f2f1e30f4f32b6c",
   "metadata": {
    "ExecuteTime": {
     "end_time": "2025-06-25T06:49:01.789682Z",
     "start_time": "2025-06-25T06:49:01.758535Z"
    }
   },
   "outputs": [
    {
     "name": "stdout",
     "output_type": "stream",
     "text": [
      "RandomForestClassifier(criterion='entropy', max_depth=10)\n"
     ]
    }
   ],
   "source": [
    "model_ = load('xxxxxxx.joblib')\n",
    "print(model_)"
   ]
  },
  {
   "cell_type": "code",
   "execution_count": 11,
   "id": "16e6248856244788",
   "metadata": {
    "ExecuteTime": {
     "end_time": "2025-06-25T06:49:07.763725Z",
     "start_time": "2025-06-25T06:49:07.675799Z"
    }
   },
   "outputs": [
    {
     "data": {
      "image/png": "[encoded data removed]",
      "text/plain": [
       "<Figure size 640x480 with 2 Axes>"
      ]
     },
     "metadata": {},
     "output_type": "display_data"
    }
   ],
   "source": [
    "yhat_proba = model_.predict_proba(X_test)\n",
    "yhat = np.argmax(yhat_proba, axis=1)\n",
    "\n",
    "cm = confusion_matrix(y_test, yhat)\n",
    "target_names = ['Classe 0', 'Classe 1', 'Classe 2']\n",
    "report = classification_report(y_test, yhat, target_names=target_names, digits=4)\n",
    "\n",
    "disp = ConfusionMatrixDisplay(confusion_matrix=cm, display_labels=model_.classes_)\n",
    "disp.plot(cmap=plt.cm.Blues)\n",
    "plt.show()"
   ]
  },
  {
   "cell_type": "code",
   "execution_count": 12,
   "id": "1e9c980b8a9dad84",
   "metadata": {
    "ExecuteTime": {
     "end_time": "2025-06-18T13:39:13.586976Z",
     "start_time": "2025-06-18T13:39:13.492038Z"
    }
   },
   "outputs": [
    {
     "data": {
      "text/plain": [
       "<Figure size 640x480 with 0 Axes>"
      ]
     },
     "metadata": {},
     "output_type": "display_data"
    },
    {
     "data": {
      "image/png": "[encoded data removed]",
      "text/plain": [
       "<Figure size 640x480 with 1 Axes>"
      ]
     },
     "metadata": {},
     "output_type": "display_data"
    }
   ],
   "source": [
    "import numpy as np\n",
    "import matplotlib.pyplot as plt\n",
    "from sklearn.metrics import roc_curve, auc\n",
    "from sklearn.preprocessing import label_binarize\n",
    "\n",
    "\n",
    "yhat_proba = model_.predict_proba(X_test)\n",
    "\n",
    "classes = np.unique(y_test)\n",
    "y_test_bin = label_binarize(y_test, classes=classes)\n",
    "\n",
    "n_classes = len(classes)\n",
    "fpr = {}\n",
    "tpr = {}\n",
    "roc_auc = {}\n",
    "\n",
    "for i in range(n_classes):\n",
    "    fpr[i], tpr[i], _ = roc_curve(y_test_bin[:, i], yhat_proba[:, i])\n",
    "    roc_auc[i] = auc(fpr[i], tpr[i])\n",
    "\n",
    "plt.figure()\n",
    "colors = plt.get_cmap('viridis', n_classes).colors\n",
    "plt.style.use('default')\n",
    "plt.figure(facecolor='white')\n",
    "for i in range(n_classes):\n",
    "    plt.plot(fpr[i], tpr[i], label=f\"Class {classes[i]+1} (AUC = {roc_auc[i]:.2f})\", color=colors[i])\n",
    "\n",
    "plt.plot([0, 1], [0, 1], 'k--', lw=1)\n",
    "\n",
    "plt.legend(loc=\"lower right\")\n",
    "plt.savefig('ROC_curve_3classes_clinicaldata.png')\n",
    "plt.show()"
   ]
  },
  {
   "cell_type": "code",
   "execution_count": null,
   "id": "87192d34a085ea32",
   "metadata": {},
   "outputs": [],
   "source": []
  }
 ],
 "metadata": {
  "kernelspec": {
   "display_name": "Python 3 (ipykernel)",
   "language": "python",
   "name": "python3"
  },
  "language_info": {
   "codemirror_mode": {
    "name": "ipython",
    "version": 3
   },
   "file_extension": ".py",
   "mimetype": "text/x-python",
   "name": "python",
   "nbconvert_exporter": "python",
   "pygments_lexer": "ipython3",
   "version": "3.10.16"
  }
 },
 "nbformat": 4,
 "nbformat_minor": 5
}
